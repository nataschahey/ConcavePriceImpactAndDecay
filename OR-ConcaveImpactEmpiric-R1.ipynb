{
 "cells": [
  {
   "cell_type": "code",
   "execution_count": 1,
   "metadata": {},
   "outputs": [],
   "source": [
    "from time import time\n",
    "import datetime\n",
    "\n",
    "import pandas as pd\n",
    "import numpy as np\n",
    "import matplotlib.pyplot as plt\n",
    "from matplotlib.ticker import FuncFormatter\n",
    "\n",
    "from scipy.optimize import curve_fit\n",
    "from scipy.optimize import minimize\n",
    "import matplotlib.cm as cm\n",
    "import matplotlib.colors as mcolors\n",
    "from matplotlib import rc\n",
    "from sklearn.metrics import r2_score\n",
    "\n",
    "from matplotlib import ticker\n",
    "\n",
    "import numba\n",
    "from numba import jit"
   ]
  },
  {
   "cell_type": "code",
   "execution_count": 24,
   "metadata": {},
   "outputs": [],
   "source": [
    "def r2_G_two_taus(J_start_list, J_end_list, returns, delta, taus_try, G_try):\n",
    "    \"\"\"\n",
    "    Fits a model with two timescales for predicting the impact on returns.\n",
    "\n",
    "    Inputs:\n",
    "    - J_start_list: array with shape (m, t), where m is the number of meta-orders and t is the number of trial timescales;\n",
    "                    each entry indicates the start of the meta-order impact for a specific timescale.\n",
    "    - J_end_list: array with shape (m, t), where m is the number of meta-orders and t is the number of trial timescales;\n",
    "                  each entry indicates the end of the meta-order impact for a specific timescale.\n",
    "    - returns: array of actual returns corresponding to each meta-order.\n",
    "    - delta: float representing the concavity parameter for the impact function.\n",
    "    - taus_try: array of trial impact-decay timescales (length t).\n",
    "    - G_try: initial guess for the weight estimate (float).\n",
    "\n",
    "    Outputs:\n",
    "    - r2_delta_tau: array with shape (t, t) containing the R-squared values for each combination of two timescales.\n",
    "    - G_matrix: array with shape (t, t) containing the estimated prefactor for each combination of two timescales.\n",
    "    - beta_matrix: array with shape (t, t) containing the estimated normalized weight for each combination of two timescales.\n",
    "    \"\"\"\n",
    "    N = taus_try.shape[0]  # Number of trial timescales\n",
    "    r2_delta_tau = np.zeros([N, N])  # Initialize array to store R-squared values\n",
    "    G_matrix = np.zeros([N, N])      # Initialize array to store prefactor estimates\n",
    "    beta_matrix = np.zeros([N, N])   # Initialize array to store normalized weight estimates\n",
    "    \n",
    "    # Loop over all combinations of two trial timescales\n",
    "    for tau1_idx, tau1 in enumerate(taus_try):\n",
    "        Jend1 = J_end_list[:, tau1_idx]     # End impact for the first timescale\n",
    "        Jstart1 = J_start_list[:, tau1_idx] # Start impact for the first timescale\n",
    "        for tau2_idx, tau2 in enumerate(taus_try):\n",
    "            Jend2 = J_end_list[:, tau2_idx]     # End impact for the second timescale\n",
    "            Jstart2 = J_start_list[:, tau2_idx] # Start impact for the second timescale\n",
    "\n",
    "            def best_params(delta):\n",
    "                \"\"\"Find the best model parameters (G, beta) by minimizing the loss function.\"\"\"\n",
    "                def loss(G):\n",
    "                    # Compute the predicted impact at the start and end of the meta-order\n",
    "                    Iend = G[1] * np.sign(Jend1) * np.abs(Jend1) ** delta + \\\n",
    "                           (1 - G[1]) * np.sign(Jend2) * np.abs(Jend2) ** delta\n",
    "                    Istart = G[1] * np.sign(Jstart1) * np.abs(Jstart1) ** delta + \\\n",
    "                             (1 - G[1]) * np.sign(Jstart2) * np.abs(Jstart2) ** delta\n",
    "\n",
    "                    # Compute the loss as the mean squared error between predicted and actual returns\n",
    "                    res = ((returns - G[0] * (Iend - Istart)) ** 2).mean()\n",
    "                    return res\n",
    "\n",
    "                # Optimize the loss function to find the best G and beta\n",
    "                result = minimize(loss, np.array([G_try, 0.6]), bounds=((0, None), (0, 1)))\n",
    "                r2 = 1.0 - result.fun / (returns ** 2).mean()  # Calculate R-squared\n",
    "\n",
    "                return dict(\n",
    "                    G=result.x[0],          # Best prefactor\n",
    "                    best_beta=result.x[1],  # Best normalized weight\n",
    "                    r2=r2                   # R-squared value\n",
    "                )\n",
    "\n",
    "            # Store the results for the current combination of timescales\n",
    "            results = best_params(delta)\n",
    "            r2_delta_tau[tau1_idx, tau2_idx] = results['r2']\n",
    "            G_matrix[tau1_idx, tau2_idx] = results['G']\n",
    "            beta_matrix[tau1_idx, tau2_idx] = results['best_beta']\n",
    "\n",
    "    # Return the matrices containing R-squared, G, and beta values for each timescale combination\n",
    "    return r2_delta_tau, G_matrix, beta_matrix\n",
    "\n",
    "\n",
    "\n",
    "def r2_G_three_taus(J_start_list, J_end_list, returns, delta, taus_try, tau1_idx, tau2_idx):\n",
    "    \"\"\"\n",
    "    Fits a model with three timescales for predicting the impact on returns.\n",
    "\n",
    "    Inputs:\n",
    "    - J_start_list: array with shape (m, t), where m is the number of meta-orders and t is the number of trial timescales;\n",
    "                    each entry indicates the start of the meta-order impact for a specific timescale.\n",
    "    - J_end_list: array with shape (m, t), where m is the number of meta-orders and t is the number of trial timescales;\n",
    "                  each entry indicates the end of the meta-order impact for a specific timescale.\n",
    "    - returns: array of actual returns corresponding to each meta-order.\n",
    "    - delta: float representing the concavity parameter for the impact function.\n",
    "    - taus_try: array of trial impact-decay timescales (length t).\n",
    "    - tau1_idx: integer index representing the first chosen timescale in taus_try.\n",
    "    - tau2_idx: integer index representing the second chosen timescale in taus_try.\n",
    "\n",
    "    Outputs:\n",
    "    - r2_delta_tau: list containing the R-squared values for each combination of three timescales.\n",
    "    - G_matrix: list containing the estimated prefactor for each combination of three timescales.\n",
    "    - a: list containing the estimated weight for the first timescale for each combination of three timescales.\n",
    "    - b: list containing the estimated weight for the second timescale for each combination of three timescales.\n",
    "    \"\"\"\n",
    "    r2_delta_tau = []  # Initialize list to store R-squared values\n",
    "    G_matrix = []      # Initialize list to store prefactor estimates\n",
    "    a = []             # Initialize list to store weight estimates for the first timescale\n",
    "    b = []             # Initialize list to store weight estimates for the second timescale\n",
    "    \n",
    "    # Extract impact for the first and second chosen timescales\n",
    "    Jend1 = J_end_list[:, tau1_idx]     # End impact for the first timescale\n",
    "    Jstart1 = J_start_list[:, tau1_idx] # Start impact for the first timescale\n",
    "    \n",
    "    Jend2 = J_end_list[:, tau2_idx]     # End impact for the second timescale\n",
    "    Jstart2 = J_start_list[:, tau2_idx] # Start impact for the second timescale\n",
    "    \n",
    "    # Loop over all trial timescales to find the best third timescale\n",
    "    for tau3_idx, tau3 in enumerate(taus_try):\n",
    "        Jend3 = J_end_list[:, tau3_idx]     # End impact for the third timescale\n",
    "        Jstart3 = J_start_list[:, tau3_idx] # Start impact for the third timescale\n",
    "\n",
    "        def best_params(delta):\n",
    "            \"\"\"Find the best model parameters (G, a, b) by minimizing the loss function.\"\"\"\n",
    "            def loss(G):\n",
    "                # Compute the predicted impact at the start and end of the meta-order\n",
    "                Iend = (G[1] * np.sign(Jend1) * np.abs(Jend1) ** delta +\n",
    "                        G[2] * np.sign(Jend2) * np.abs(Jend2) ** delta +\n",
    "                        (1 - G[1] - G[2]) * np.sign(Jend3) * np.abs(Jend3) ** delta)\n",
    "                Istart = (G[1] * np.sign(Jstart1) * np.abs(Jstart1) ** delta +\n",
    "                          G[2] * np.sign(Jstart2) * np.abs(Jstart2) ** delta +\n",
    "                          (1 - G[1] - G[2]) * np.sign(Jstart3) * np.abs(Jstart3) ** delta)\n",
    "                \n",
    "                # Compute the loss as the mean squared error between predicted and actual returns\n",
    "                res = ((returns - G[0] * (Iend - Istart)) ** 2).mean()\n",
    "                return res\n",
    "\n",
    "            def ieq(G):\n",
    "                # Inequality constraint to ensure that the sum of the weights does not exceed 1\n",
    "                return (1 - G[1] - G[2])\n",
    "\n",
    "            # Optimize the loss function to find the best G, a, and b, with constraints\n",
    "            constraints = {'type': 'ineq', 'fun': ieq}\n",
    "            result = minimize(loss, np.array([1.5, 0.6, 0.3]), \n",
    "                              bounds=((0, None), (0.5, 1), (0.2, 0.5)),  \n",
    "                              constraints=constraints) \n",
    "            \n",
    "            # Calculate R-squared\n",
    "            r2 = 1.0 - result.fun / (returns ** 2).mean()\n",
    "            \n",
    "            return dict(\n",
    "                G=result.x[0],  # Best prefactor\n",
    "                a=result.x[1],  # Best weight for the first timescale\n",
    "                b=result.x[2],  # Best weight for the second timescale\n",
    "                r2=r2           # R-squared value\n",
    "            )\n",
    "\n",
    "        # Store the results for the current combination of three timescales\n",
    "        results = best_params(delta)\n",
    "        r2_delta_tau.append(results['r2'])\n",
    "        G_matrix.append(results['G'])\n",
    "        a.append(results['a'])\n",
    "        b.append(results['b'])\n",
    "\n",
    "    # Return the lists containing R-squared, G, a, and b values for each timescale combination\n",
    "    return r2_delta_tau, G_matrix, a, b\n",
    "\n",
    "@numba.jit(nopython=True)\n",
    "def compute_J_fast_large(q, t, epsilon, tau, duration):\n",
    "    \"\"\"\n",
    "    Computes exponentially decaying impact for a TWAP (Time-Weighted Average Price) strategy.\n",
    "\n",
    "    Inputs:\n",
    "    - q: array representing the normalized trade size |Q/V_D|, where Q is the meta-order volume and V_D is the daily volume.\n",
    "    - t: array of timestamps (in minutes) corresponding to the trades.\n",
    "    - epsilon: array of signs of the trade size Q/V_D, indicating the direction of the trade.\n",
    "    - tau: impact-decay timescale (in minutes).\n",
    "    - duration: array of trade durations for each meta-order (in minutes).\n",
    "\n",
    "    Outputs:\n",
    "    - J_start: array of starting impact values for each trade, incorporating the decay from previous trades.\n",
    "    - J_end: array of ending impact values for each trade, incorporating the decay and additional impact from the current trade.\n",
    "    - J_inst: array of instantaneous impact values calculated during the trade.\n",
    "    \"\"\"\n",
    "    N = q.size  # Number of trades/meta-orders\n",
    "    assert t.size == N  # Ensure the size of timestamps matches the number of trades\n",
    "    \n",
    "    J_inst = np.zeros(q.size)  # Initialize array for instantaneous impact\n",
    "    J_end = np.zeros(q.size)   # Initialize array for end impact\n",
    "    J_start = np.zeros(q.size) # Initialize array for start impact\n",
    "\n",
    "    t_old = t[0]  # Initialize the previous timestamp\n",
    "    J_start[0] = 0  # Starting impact for the first trade is zero\n",
    "    \n",
    "    # Compute the initial instantaneous and end impact for the first trade\n",
    "    J_inst[0] = (1 - np.exp(-duration[0] / tau)) * q[0] * epsilon[0] / duration[0] * tau\n",
    "    J_end[0] = J_inst[0]\n",
    "    \n",
    "    # Loop through all subsequent trades/meta-orders\n",
    "    for idx in range(1, N):\n",
    "        t_new = t[idx]  # Current timestamp\n",
    "        frac_t = (t_new - t_old) / tau  # Fraction of the timescale elapsed\n",
    "        \n",
    "        # Calculate the starting impact considering the decay from the previous trade\n",
    "        J_start[idx] = np.exp(-frac_t) * J_end[idx - 1]\n",
    "        \n",
    "        # Compute the instantaneous impact for the current trade\n",
    "        J_inst[idx] = (1 - np.exp(-duration[idx] / tau)) * q[idx] * epsilon[idx] / duration[idx] * tau\n",
    "        \n",
    "        # Calculate the ending impact considering the decay and the additional impact from the current trade\n",
    "        J_end[idx] = J_inst[idx] + np.exp(-(frac_t + duration[idx] / tau)) * J_end[idx - 1]\n",
    "        \n",
    "        t_old = t_new  # Update the previous timestamp\n",
    "\n",
    "    return J_start, J_end, J_inst\n",
    "\n",
    "\n",
    "def compute_J_ret(df_list, tau_shortlong):\n",
    "    \"\"\"\n",
    "    Creates the impact process for a list of dataframes, each containing meta-orders for a specific contract.\n",
    "\n",
    "    Inputs:\n",
    "    - df_list: list of dataframes, where each dataframe contains meta-order data for a specific futures contract.\n",
    "    - tau_shortlong: array of trial impact-decay timescales (in days, to be converted to minutes).\n",
    "\n",
    "    Outputs:\n",
    "    - J_start_list: list of arrays containing starting impact values for each trade across all timescales and contracts.\n",
    "    - J_end_list: list of arrays containing ending impact values for each trade across all timescales and contracts.\n",
    "    - returns_list: list of arrays containing returns normalized by volatility for each contract.\n",
    "    \"\"\"\n",
    "    J_start_list = []  # Initialize list to store start impact arrays for all contracts\n",
    "    J_end_list = []    # Initialize list to store end impact arrays for all contracts\n",
    "    J_inst_list = []   # Initialize list to store instantaneous impact arrays for all contracts\n",
    "    returns_list = []  # Initialize list to store returns for all contracts\n",
    "    \n",
    "    # Loop through each contract's dataframe\n",
    "    for jdx, prd in enumerate(df_list):\n",
    "        df_large = prd.copy()  # Create a copy of the current dataframe\n",
    "        \n",
    "        # Extract relevant columns as arrays\n",
    "        q = df_large['Q'].abs().values         # Absolute trade sizes |Q/V_D|\n",
    "        epsilon = np.sign(df_large['Q'].values) # Trade direction signs\n",
    "        t = df_large['time'].values            # Timestamps (in minutes)\n",
    "        duration = df_large['T'].values        # Trade durations (in minutes)\n",
    "\n",
    "        # Initialize arrays to store impact for different timescales\n",
    "        J_start = np.zeros((q.size, tau_shortlong.size))\n",
    "        J_end = np.zeros((q.size, tau_shortlong.size))\n",
    "        J_inst = np.zeros((q.size, tau_shortlong.size))\n",
    "        \n",
    "        # Loop through each trial timescale\n",
    "        for idx, tau in enumerate(tau_shortlong):\n",
    "            # Convert timescale from days to minutes and compute impacts using `compute_J_fast_large`\n",
    "            J_start[:, idx], J_end[:, idx], J_inst[:, idx] = compute_J_fast_large(q, t, epsilon, tau * 24 * 60, duration)\n",
    "\n",
    "        # Append the computed impact arrays for the current contract to the lists\n",
    "        J_start_list.append(J_start)\n",
    "        J_end_list.append(J_end)\n",
    "        J_inst_list.append(J_inst)\n",
    "        \n",
    "        # Calculate returns normalized by volatility for the current contract\n",
    "        volatility_pts = df_large['volatility_pts'].values\n",
    "        returns = (prd['Mid_end'] - prd['Mid_start']) / volatility_pts\n",
    "        returns_list.append(returns)\n",
    "\n",
    "    return J_start_list, J_end_list, returns_list\n",
    "\n",
    "\n",
    "def max_deltataur2(r2, taus, deltas):\n",
    "    \"\"\"\n",
    "    Finds the maximum value in the input matrix `r2` and returns the corresponding indices and values.\n",
    "    \n",
    "    Inputs:\n",
    "    - r2: 2D matrix containing R-squared values.\n",
    "    - taus: Array of tau values corresponding to the columns of `r2`.\n",
    "    - deltas: Array of delta values corresponding to the rows of `r2`.\n",
    "    \n",
    "    Outputs:\n",
    "    - Maximum R-squared value and the corresponding delta and tau indices and values.\n",
    "    \"\"\"\n",
    "    delta_idx_MLE, tau_idx_MLE = np.unravel_index(r2.argmax(), r2.shape)  # Find indices of the max value in r2\n",
    "    delta_MLE = deltas[delta_idx_MLE]  # Delta corresponding to the max R-squared\n",
    "    tau_MLE = taus[tau_idx_MLE]        # Tau corresponding to the max R-squared\n",
    "    return r2.max(), delta_idx_MLE, delta_MLE, tau_idx_MLE, tau_MLE\n",
    "\n",
    "\n",
    "def plot_matrix(r2_delta_tau_pos, taus_try, deltas_try, title, a1, vmin, vmax, step, xlabel, ylabel):\n",
    "    \"\"\"\n",
    "    Plots a 2D matrix with customized axis labels, color range, and title.\n",
    "    \n",
    "    Inputs:\n",
    "    - r2_delta_tau_pos: 2D matrix to be plotted.\n",
    "    - taus_try: Array of tau values for the x-axis.\n",
    "    - deltas_try: Array of delta values for the y-axis.\n",
    "    - title: Title of the plot.\n",
    "    - a1: Index offset for both axes to focus on a specific region of the matrix.\n",
    "    - vmin, vmax: Minimum and maximum values for the color scale.\n",
    "    - step: Step size for the axis labels.\n",
    "    - xlabel, ylabel: Labels for the x and y axes.\n",
    "    \"\"\"\n",
    "    x1 = r2_delta_tau_pos.shape[0]\n",
    "    x2 = r2_delta_tau_pos.shape[1]\n",
    "    im_ratio = x1 / x2  # Calculate aspect ratio of the image\n",
    "\n",
    "    fig, ax = plt.subplots(figsize=(7, 7))\n",
    "    im = ax.imshow(r2_delta_tau_pos[a1:, a1:], cmap=cm.get_cmap('Blues'), vmin=vmin, vmax=vmax)  # Display matrix\n",
    "\n",
    "    # Set axis ticks and labels\n",
    "    ax.set_xticks(np.arange(0, taus_try.shape[0] - a1, step))\n",
    "    ax.set_xticklabels(np.around(taus_try[a1::step], 1))\n",
    "    ax.set_yticks(np.arange(0, deltas_try.shape[0] - a1, step))\n",
    "    ax.set_yticklabels(np.around(deltas_try[a1::step], 2))\n",
    "\n",
    "    # Set axis labels and title\n",
    "    ax.set_ylabel(ylabel, size=25)\n",
    "    ax.set_xlabel(xlabel, size=25)\n",
    "    ax.set_title(title, size=20)\n",
    "    \n",
    "    # Adjust layout and add colorbar\n",
    "    fig.tight_layout()\n",
    "    cbar = fig.colorbar(im, orientation='vertical', fraction=0.047 * im_ratio)\n",
    "    cbar.formatter.set_powerlimits((0, 0))\n",
    "    cbar.update_ticks()"
   ]
  },
  {
   "cell_type": "markdown",
   "metadata": {},
   "source": [
    "# Import simulated Meta-order Data"
   ]
  },
  {
   "cell_type": "code",
   "execution_count": 6,
   "metadata": {},
   "outputs": [],
   "source": [
    "df = pd.read_csv('meta_order_simdata-1.csv')"
   ]
  },
  {
   "cell_type": "code",
   "execution_count": 22,
   "metadata": {},
   "outputs": [
    {
     "data": {
      "text/plain": [
       "(59964, 7)"
      ]
     },
     "execution_count": 22,
     "metadata": {},
     "output_type": "execute_result"
    }
   ],
   "source": [
    "#Number of meta-order\n",
    "df.shape"
   ]
  },
  {
   "cell_type": "code",
   "execution_count": 25,
   "metadata": {},
   "outputs": [
    {
     "data": {
      "text/plain": [
       "Index(['Mid_start', 'Mid_end', 'volatility_pts', 'Q', 'T', 'time', 'Product'], dtype='object')"
      ]
     },
     "execution_count": 25,
     "metadata": {},
     "output_type": "execute_result"
    }
   ],
   "source": [
    "#Columns\n",
    "df"
   ]
  },
  {
   "cell_type": "markdown",
   "metadata": {},
   "source": [
    "## Explanation Columns:\n",
    "    \n",
    "    \n",
    "- Mid_start: The midprice at the start of the meta-order.\n",
    "- Mid_end: The midprice at the end of the meta-order.\n",
    "- volatility_pts: The price volatility during the meta-order, expressed in basis points.\n",
    "- Q: The meta-order volume normalized by the average daily volume, indicating the size of the order relative to typical daily trading volume.\n",
    "- T: The duration of the meta-order in minutes.\n",
    "- time: The timestamp of the trade or event, recorded in minutes.\n",
    "- Product: The name or identifier of the futures contract being traded."
   ]
  },
  {
   "cell_type": "code",
   "execution_count": 23,
   "metadata": {},
   "outputs": [
    {
     "data": {
      "text/html": [
       "<div>\n",
       "<style scoped>\n",
       "    .dataframe tbody tr th:only-of-type {\n",
       "        vertical-align: middle;\n",
       "    }\n",
       "\n",
       "    .dataframe tbody tr th {\n",
       "        vertical-align: top;\n",
       "    }\n",
       "\n",
       "    .dataframe thead th {\n",
       "        text-align: right;\n",
       "    }\n",
       "</style>\n",
       "<table border=\"1\" class=\"dataframe\">\n",
       "  <thead>\n",
       "    <tr style=\"text-align: right;\">\n",
       "      <th></th>\n",
       "      <th>Mid_start</th>\n",
       "      <th>Mid_end</th>\n",
       "      <th>volatility_pts</th>\n",
       "      <th>Q</th>\n",
       "      <th>T</th>\n",
       "      <th>time</th>\n",
       "      <th>Product</th>\n",
       "    </tr>\n",
       "  </thead>\n",
       "  <tbody>\n",
       "    <tr>\n",
       "      <th>0</th>\n",
       "      <td>338.1453</td>\n",
       "      <td>341.4080</td>\n",
       "      <td>6.287999</td>\n",
       "      <td>0.013068</td>\n",
       "      <td>268.0</td>\n",
       "      <td>4320</td>\n",
       "      <td>0</td>\n",
       "    </tr>\n",
       "    <tr>\n",
       "      <th>1</th>\n",
       "      <td>351.1015</td>\n",
       "      <td>356.9022</td>\n",
       "      <td>6.722799</td>\n",
       "      <td>0.014789</td>\n",
       "      <td>310.0</td>\n",
       "      <td>5760</td>\n",
       "      <td>0</td>\n",
       "    </tr>\n",
       "    <tr>\n",
       "      <th>2</th>\n",
       "      <td>346.8933</td>\n",
       "      <td>345.9403</td>\n",
       "      <td>5.564961</td>\n",
       "      <td>0.021324</td>\n",
       "      <td>212.0</td>\n",
       "      <td>10080</td>\n",
       "      <td>0</td>\n",
       "    </tr>\n",
       "    <tr>\n",
       "      <th>3</th>\n",
       "      <td>336.8345</td>\n",
       "      <td>334.2041</td>\n",
       "      <td>5.212244</td>\n",
       "      <td>0.009146</td>\n",
       "      <td>183.0</td>\n",
       "      <td>11520</td>\n",
       "      <td>0</td>\n",
       "    </tr>\n",
       "    <tr>\n",
       "      <th>4</th>\n",
       "      <td>347.8543</td>\n",
       "      <td>342.8836</td>\n",
       "      <td>6.012487</td>\n",
       "      <td>-0.011854</td>\n",
       "      <td>243.0</td>\n",
       "      <td>14400</td>\n",
       "      <td>0</td>\n",
       "    </tr>\n",
       "  </tbody>\n",
       "</table>\n",
       "</div>"
      ],
      "text/plain": [
       "   Mid_start   Mid_end  volatility_pts         Q      T   time  Product\n",
       "0   338.1453  341.4080        6.287999  0.013068  268.0   4320        0\n",
       "1   351.1015  356.9022        6.722799  0.014789  310.0   5760        0\n",
       "2   346.8933  345.9403        5.564961  0.021324  212.0  10080        0\n",
       "3   336.8345  334.2041        5.212244  0.009146  183.0  11520        0\n",
       "4   347.8543  342.8836        6.012487 -0.011854  243.0  14400        0"
      ]
     },
     "execution_count": 23,
     "metadata": {},
     "output_type": "execute_result"
    }
   ],
   "source": [
    "#Data Frame\n",
    "df.head()"
   ]
  },
  {
   "cell_type": "code",
   "execution_count": 9,
   "metadata": {},
   "outputs": [],
   "source": [
    "# Create list per product\n",
    "df_list = []\n",
    "for i in df.Product.unique():\n",
    "    df_list.append(df[df['Product'] == i])"
   ]
  },
  {
   "cell_type": "markdown",
   "metadata": {},
   "source": [
    "# Fitting Procedure\n",
    "\n",
    "Normalized price returns $r_t$ are regressed against the contemporaneous increments of a power-law price impact of the form\n",
    "\\begin{equation}\\label{eq:solutionI}\n",
    "        I_t =  \\sum_{n=1}^N w_n \\mathrm{sgn}(J^n_t) |J^n_t|^{c_n},\n",
    "\\end{equation}\n",
    "\n",
    "## Two-timescales n=2, c = 0.5"
   ]
  },
  {
   "cell_type": "code",
   "execution_count": 42,
   "metadata": {},
   "outputs": [],
   "source": [
    "# Compute the latent variable J for different test time-scales in tau_shortlong\n",
    "N = 20\n",
    "taus_try = np.concatenate([np.array([0.0001]),(10**(np.linspace(-1,2, N-1)))])\n",
    "tau_shortlong = np.concatenate([np.array([0.05,0.1,0.2]), taus_try[3:]],axis = 0)\n",
    "\n",
    "J_start_list , J_end_list, returns_list = compute_J_ret(df_list, tau_shortlong)"
   ]
  },
  {
   "cell_type": "code",
   "execution_count": 43,
   "metadata": {},
   "outputs": [],
   "source": [
    "# Regress the Model for two time scales\n",
    "J_start = np.concatenate(J_start_list, axis = 0)\n",
    "J_end =  np.concatenate(J_end_list, axis = 0)\n",
    "returns =  np.concatenate(returns_list, axis = 0)\n",
    "\n",
    "deltas_try = np.arange(10,101,5)/100\n",
    "\n",
    "r2,G0,beta = r2_G_two_taus(J_start, J_end,returns, 0.5,tau_shortlong,1.7)"
   ]
  },
  {
   "cell_type": "markdown",
   "metadata": {},
   "source": [
    "### Result\n"
   ]
  },
  {
   "cell_type": "code",
   "execution_count": 44,
   "metadata": {},
   "outputs": [
    {
     "name": "stdout",
     "output_type": "stream",
     "text": [
      "r^2:  0.024822947990808863 tau_1:  0.46415888336127786 tau_2:  68.12920690579608 \n",
      " vec{w}:  1.7796980146986316 w_1:  0.7459498081990764\n"
     ]
    }
   ],
   "source": [
    "# Best fit parameters\n",
    "r2_mle, tau1_idx_MLE, tau1_MLE, tau2_idx_MLE, tau2_MLE = max_deltataur2(r2,tau_shortlong,tau_shortlong)\n",
    "print('r^2: ',r2_mle, \n",
    "      'tau_1: ',tau1_MLE,\n",
    "     'tau_2: ', tau2_MLE, \n",
    "      '\\n vec{w}: ', G0[tau1_idx_MLE,tau2_idx_MLE],\n",
    "      'w_1: ',beta[tau1_idx_MLE,tau2_idx_MLE])"
   ]
  },
  {
   "cell_type": "code",
   "execution_count": 45,
   "metadata": {},
   "outputs": [
    {
     "data": {
      "image/png": "[encoded data removed]",
      "text/plain": [
       "<Figure size 504x504 with 2 Axes>"
      ]
     },
     "metadata": {
      "needs_background": "light"
     },
     "output_type": "display_data"
    },
    {
     "data": {
      "image/png": "[encoded data removed]",
      "text/plain": [
       "<Figure size 504x504 with 2 Axes>"
      ]
     },
     "metadata": {
      "needs_background": "light"
     },
     "output_type": "display_data"
    }
   ],
   "source": [
    "# Plot the R^2 matrix and the models Pre-factor \n",
    "plot_matrix(r2, tau_shortlong, tau_shortlong,r\"\" , a1=1, vmin = None, vmax =None ,step = 4,\n",
    "            ylabel = r'$\\hat \\tau_1$', xlabel = r'$\\hat \\tau_1$')\n",
    "plt.tight_layout()\n",
    "plot_matrix(G0 , tau_shortlong, tau_shortlong,r\"\" , a1=1, vmin = None, vmax =None,step = 4,\n",
    "            ylabel = r'$\\hat \\tau_2$', xlabel = r'$\\hat \\tau_1$')\n",
    "\n",
    "plt.tight_layout()"
   ]
  },
  {
   "cell_type": "markdown",
   "metadata": {},
   "source": [
    "## Three-timescales n=3, c = 0.5"
   ]
  },
  {
   "cell_type": "code",
   "execution_count": 46,
   "metadata": {},
   "outputs": [],
   "source": [
    "# Fit the third time-scale with the 2 best fitted time-scales\n",
    "r2_delta_tau, G_matrix,a,b = r2_G_three_taus(J_start, J_end,returns, 0.5, \n",
    "                                                                     tau_shortlong, tau1_idx_MLE, tau2_idx_MLE)"
   ]
  },
  {
   "cell_type": "markdown",
   "metadata": {},
   "source": [
    "### Results"
   ]
  },
  {
   "cell_type": "code",
   "execution_count": 47,
   "metadata": {},
   "outputs": [
    {
     "name": "stdout",
     "output_type": "stream",
     "text": [
      "$w_1/||w||$: 0.6506664966467611  $w_2/||w||$: 0.2225236876601003 $w_3/||w||$: 0.12680981569313857\n",
      "$\\vec{w}$: 1.774887876707795\n"
     ]
    }
   ],
   "source": [
    "# Best Fit Paramters\n",
    "idx_mle = np.argmax(r2_delta_tau)\n",
    "print(r'$w_1/||w||$:',a[idx_mle],r' $w_2/||w||$:',b[idx_mle], r'$w_3/||w||$:',1-a[idx_mle]-b[idx_mle])\n",
    "print(r'$\\vec{w}$:',G_matrix[idx_mle])"
   ]
  },
  {
   "cell_type": "code",
   "execution_count": 53,
   "metadata": {},
   "outputs": [
    {
     "data": {
      "text/plain": [
       "(11, array([ 0.46415888, 68.12920691,  4.64158883]), 0.02492580509740161)"
      ]
     },
     "execution_count": 53,
     "metadata": {},
     "output_type": "execute_result"
    }
   ],
   "source": [
    "# Summary Results\n",
    "idx_mle, tau_shortlong[np.array([tau1_idx_MLE,tau2_idx_MLE,11])], np.max(r2_delta_tau)"
   ]
  },
  {
   "cell_type": "markdown",
   "metadata": {},
   "source": [
    "## Two concavities n =2, $\\tau_1$ = 0.5, $\\tau_2$ = 65 days"
   ]
  },
  {
   "cell_type": "code",
   "execution_count": 49,
   "metadata": {},
   "outputs": [],
   "source": [
    "# Fit concavities for the two best time scales\n",
    "r2_td, G0_td, beta_td= r2_G_two_deltas(J_start ,\n",
    "               J_end , returns, deltas_try, deltas_try, tau1_idx_MLE, tau2_idx_MLE,1.7)"
   ]
  },
  {
   "cell_type": "markdown",
   "metadata": {},
   "source": [
    "### Results"
   ]
  },
  {
   "cell_type": "code",
   "execution_count": 50,
   "metadata": {},
   "outputs": [
    {
     "data": {
      "text/plain": [
       "(0.02482595179229452, 7, 0.45, 9, 0.55)"
      ]
     },
     "execution_count": 50,
     "metadata": {},
     "output_type": "execute_result"
    }
   ],
   "source": [
    "# Best Fit Parameters\n",
    "max_deltataur2(r2_td,deltas_try,deltas_try)"
   ]
  },
  {
   "cell_type": "code",
   "execution_count": 51,
   "metadata": {},
   "outputs": [
    {
     "data": {
      "image/png": "[encoded data removed]",
      "text/plain": [
       "<Figure size 504x504 with 2 Axes>"
      ]
     },
     "metadata": {
      "needs_background": "light"
     },
     "output_type": "display_data"
    },
    {
     "data": {
      "image/png": "[encoded data removed]",
      "text/plain": [
       "<Figure size 504x504 with 2 Axes>"
      ]
     },
     "metadata": {
      "needs_background": "light"
     },
     "output_type": "display_data"
    }
   ],
   "source": [
    "plot_matrix(r2_td, deltas_try ,deltas_try,r\"\" , a1=0, vmin = None, vmax =None ,step = 4,\n",
    "            ylabel = r'$ c_1$', xlabel = r'$ c_2$')\n",
    "plt.tight_layout()\n",
    "plot_matrix(G0_td, deltas_try ,deltas_try,r\"\" , a1=0, vmin = None, vmax =None ,step = 4,\n",
    "            ylabel = r'$ c_1$', xlabel = r'$ c_2$')\n",
    "plt.tight_layout()"
   ]
  },
  {
   "cell_type": "code",
   "execution_count": null,
   "metadata": {},
   "outputs": [],
   "source": []
  },
  {
   "cell_type": "code",
   "execution_count": null,
   "metadata": {},
   "outputs": [],
   "source": []
  },
  {
   "cell_type": "code",
   "execution_count": null,
   "metadata": {},
   "outputs": [],
   "source": []
  },
  {
   "cell_type": "code",
   "execution_count": null,
   "metadata": {},
   "outputs": [],
   "source": []
  },
  {
   "cell_type": "code",
   "execution_count": null,
   "metadata": {},
   "outputs": [],
   "source": []
  }
 ],
 "metadata": {
  "kernelspec": {
   "display_name": "Python 3",
   "language": "python",
   "name": "python3"
  },
  "language_info": {
   "codemirror_mode": {
    "name": "ipython",
    "version": 3
   },
   "file_extension": ".py",
   "mimetype": "text/x-python",
   "name": "python",
   "nbconvert_exporter": "python",
   "pygments_lexer": "ipython3",
   "version": "3.7.6"
  }
 },
 "nbformat": 4,
 "nbformat_minor": 4
}
